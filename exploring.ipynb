{
 "cells": [
  {
   "cell_type": "code",
   "execution_count": 19,
   "metadata": {},
   "outputs": [],
   "source": [
    "import pandas as pd"
   ]
  },
  {
   "cell_type": "code",
   "execution_count": 20,
   "metadata": {},
   "outputs": [
    {
     "data": {
      "text/html": [
       "<div>\n",
       "<style scoped>\n",
       "    .dataframe tbody tr th:only-of-type {\n",
       "        vertical-align: middle;\n",
       "    }\n",
       "\n",
       "    .dataframe tbody tr th {\n",
       "        vertical-align: top;\n",
       "    }\n",
       "\n",
       "    .dataframe thead th {\n",
       "        text-align: right;\n",
       "    }\n",
       "</style>\n",
       "<table border=\"1\" class=\"dataframe\">\n",
       "  <thead>\n",
       "    <tr style=\"text-align: right;\">\n",
       "      <th></th>\n",
       "      <th>Timestamp</th>\n",
       "      <th>KPI_Value</th>\n",
       "      <th>Status</th>\n",
       "      <th>KPI_Name</th>\n",
       "    </tr>\n",
       "  </thead>\n",
       "  <tbody>\n",
       "    <tr>\n",
       "      <th>0</th>\n",
       "      <td>2017-04-30 16:00:00</td>\n",
       "      <td>1.901639</td>\n",
       "      <td>0</td>\n",
       "      <td>Stamping Press Efficiency</td>\n",
       "    </tr>\n",
       "    <tr>\n",
       "      <th>1</th>\n",
       "      <td>2017-04-30 16:01:00</td>\n",
       "      <td>1.786885</td>\n",
       "      <td>0</td>\n",
       "      <td>Stamping Press Efficiency</td>\n",
       "    </tr>\n",
       "    <tr>\n",
       "      <th>2</th>\n",
       "      <td>2017-04-30 16:02:00</td>\n",
       "      <td>2.000000</td>\n",
       "      <td>0</td>\n",
       "      <td>Stamping Press Efficiency</td>\n",
       "    </tr>\n",
       "    <tr>\n",
       "      <th>3</th>\n",
       "      <td>2017-04-30 16:03:00</td>\n",
       "      <td>1.885246</td>\n",
       "      <td>0</td>\n",
       "      <td>Stamping Press Efficiency</td>\n",
       "    </tr>\n",
       "    <tr>\n",
       "      <th>4</th>\n",
       "      <td>2017-04-30 16:04:00</td>\n",
       "      <td>1.819672</td>\n",
       "      <td>0</td>\n",
       "      <td>Stamping Press Efficiency</td>\n",
       "    </tr>\n",
       "  </tbody>\n",
       "</table>\n",
       "</div>"
      ],
      "text/plain": [
       "             Timestamp  KPI_Value  Status                   KPI_Name\n",
       "0  2017-04-30 16:00:00   1.901639       0  Stamping Press Efficiency\n",
       "1  2017-04-30 16:01:00   1.786885       0  Stamping Press Efficiency\n",
       "2  2017-04-30 16:02:00   2.000000       0  Stamping Press Efficiency\n",
       "3  2017-04-30 16:03:00   1.885246       0  Stamping Press Efficiency\n",
       "4  2017-04-30 16:04:00   1.819672       0  Stamping Press Efficiency"
      ]
     },
     "execution_count": 20,
     "metadata": {},
     "output_type": "execute_result"
    }
   ],
   "source": [
    "train_df = pd.read_csv('train_set_rec.csv')\n",
    "test_df = pd.read_csv('test_set_rec.csv')\n",
    "train_df.head()"
   ]
  },
  {
   "cell_type": "code",
   "execution_count": 3,
   "metadata": {},
   "outputs": [
    {
     "data": {
      "text/html": [
       "<div>\n",
       "<style scoped>\n",
       "    .dataframe tbody tr th:only-of-type {\n",
       "        vertical-align: middle;\n",
       "    }\n",
       "\n",
       "    .dataframe tbody tr th {\n",
       "        vertical-align: top;\n",
       "    }\n",
       "\n",
       "    .dataframe thead th {\n",
       "        text-align: right;\n",
       "    }\n",
       "</style>\n",
       "<table border=\"1\" class=\"dataframe\">\n",
       "  <thead>\n",
       "    <tr style=\"text-align: right;\">\n",
       "      <th></th>\n",
       "      <th>Timestamp</th>\n",
       "      <th>KPI_Value</th>\n",
       "      <th>KPI_Name</th>\n",
       "    </tr>\n",
       "  </thead>\n",
       "  <tbody>\n",
       "    <tr>\n",
       "      <th>0</th>\n",
       "      <td>2017-07-31 04:35:00</td>\n",
       "      <td>2.719298</td>\n",
       "      <td>Stamping Press Efficiency</td>\n",
       "    </tr>\n",
       "    <tr>\n",
       "      <th>1</th>\n",
       "      <td>2017-07-31 04:36:00</td>\n",
       "      <td>2.456140</td>\n",
       "      <td>Stamping Press Efficiency</td>\n",
       "    </tr>\n",
       "    <tr>\n",
       "      <th>2</th>\n",
       "      <td>2017-07-31 04:37:00</td>\n",
       "      <td>2.333333</td>\n",
       "      <td>Stamping Press Efficiency</td>\n",
       "    </tr>\n",
       "    <tr>\n",
       "      <th>3</th>\n",
       "      <td>2017-07-31 04:38:00</td>\n",
       "      <td>2.543860</td>\n",
       "      <td>Stamping Press Efficiency</td>\n",
       "    </tr>\n",
       "    <tr>\n",
       "      <th>4</th>\n",
       "      <td>2017-07-31 04:39:00</td>\n",
       "      <td>2.333333</td>\n",
       "      <td>Stamping Press Efficiency</td>\n",
       "    </tr>\n",
       "  </tbody>\n",
       "</table>\n",
       "</div>"
      ],
      "text/plain": [
       "             Timestamp  KPI_Value                   KPI_Name\n",
       "0  2017-07-31 04:35:00   2.719298  Stamping Press Efficiency\n",
       "1  2017-07-31 04:36:00   2.456140  Stamping Press Efficiency\n",
       "2  2017-07-31 04:37:00   2.333333  Stamping Press Efficiency\n",
       "3  2017-07-31 04:38:00   2.543860  Stamping Press Efficiency\n",
       "4  2017-07-31 04:39:00   2.333333  Stamping Press Efficiency"
      ]
     },
     "execution_count": 3,
     "metadata": {},
     "output_type": "execute_result"
    }
   ],
   "source": [
    "test_df.head()"
   ]
  },
  {
   "cell_type": "code",
   "execution_count": 4,
   "metadata": {},
   "outputs": [
    {
     "data": {
      "text/plain": [
       "(array(['Stamping Press Efficiency', 'Welding Robot Efficiency',\n",
       "        'CNC Machine Utilization', 'Painting Robot Performance',\n",
       "        'Assembly Line Speed', 'Quality Control Defect Rate',\n",
       "        'Material Waste Percentage', 'Energy Consumption per Unit',\n",
       "        'Machine Downtime', 'Operator Efficiency',\n",
       "        'Inventory Turnover Rate', 'Production Yield Rate',\n",
       "        'Maintenance Cost per Unit'], dtype=object),\n",
       " 13)"
      ]
     },
     "execution_count": 4,
     "metadata": {},
     "output_type": "execute_result"
    }
   ],
   "source": [
    "# get the ubique values of the KPI_Name column\n",
    "train_df['KPI_Name'].unique(), len(train_df['KPI_Name'].unique())"
   ]
  },
  {
   "cell_type": "code",
   "execution_count": 5,
   "metadata": {},
   "outputs": [
    {
     "data": {
      "text/plain": [
       "(array(['Stamping Press Efficiency', 'Welding Robot Efficiency',\n",
       "        'CNC Machine Utilization', 'Painting Robot Performance',\n",
       "        'Assembly Line Speed', 'Quality Control Defect Rate',\n",
       "        'Material Waste Percentage', 'Energy Consumption per Unit',\n",
       "        'Machine Downtime', 'Operator Efficiency',\n",
       "        'Inventory Turnover Rate', 'Production Yield Rate',\n",
       "        'Maintenance Cost per Unit'], dtype=object),\n",
       " 13)"
      ]
     },
     "execution_count": 5,
     "metadata": {},
     "output_type": "execute_result"
    }
   ],
   "source": [
    "test_df['KPI_Name'].unique(), len(test_df['KPI_Name'].unique())"
   ]
  },
  {
   "cell_type": "code",
   "execution_count": 6,
   "metadata": {},
   "outputs": [
    {
     "data": {
      "text/plain": [
       "array([ True,  True,  True,  True,  True,  True,  True,  True,  True,\n",
       "        True,  True,  True,  True])"
      ]
     },
     "execution_count": 6,
     "metadata": {},
     "output_type": "execute_result"
    }
   ],
   "source": [
    "test_df['KPI_Name'].unique() == train_df['KPI_Name'].unique()"
   ]
  },
  {
   "cell_type": "code",
   "execution_count": 18,
   "metadata": {},
   "outputs": [
    {
     "data": {
      "text/plain": [
       "'2017-07-31 04:37:00'"
      ]
     },
     "execution_count": 18,
     "metadata": {},
     "output_type": "execute_result"
    }
   ],
   "source": [
    "test_df[\"Timestamp\"][2]"
   ]
  },
  {
   "cell_type": "code",
   "execution_count": null,
   "metadata": {},
   "outputs": [],
   "source": []
  }
 ],
 "metadata": {
  "kernelspec": {
   "display_name": "ai",
   "language": "python",
   "name": "python3"
  },
  "language_info": {
   "codemirror_mode": {
    "name": "ipython",
    "version": 3
   },
   "file_extension": ".py",
   "mimetype": "text/x-python",
   "name": "python",
   "nbconvert_exporter": "python",
   "pygments_lexer": "ipython3",
   "version": "3.10.14"
  }
 },
 "nbformat": 4,
 "nbformat_minor": 2
}
